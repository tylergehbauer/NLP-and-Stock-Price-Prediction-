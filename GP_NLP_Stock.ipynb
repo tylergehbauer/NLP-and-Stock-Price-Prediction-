{
 "cells": [
  {
   "cell_type": "code",
   "execution_count": 2,
   "id": "80835567",
   "metadata": {},
   "outputs": [],
   "source": [
    "import numpy as np \n",
    "import pandas as pd \n",
    "import matplotlib.pyplot as plt\n",
    "from pathlib import Path\n",
    "import os\n",
    "import nltk as nltk\n",
    "\n",
    "from nltk.sentiment.vader import SentimentIntensityAnalyzer\n",
    "import pycaret as pc\n",
    "from nltk.corpus import stopwords   # to get collection of stopwords\n",
    "from sklearn.model_selection import train_test_split       # for splitting dataset\n",
    "from tensorflow.keras.preprocessing.text import Tokenizer  # to encode text to int\n",
    "from tensorflow.keras.preprocessing.sequence import pad_sequences   # to do padding or truncating\n",
    "from tensorflow.keras.models import Sequential     # the model\n",
    "from tensorflow.keras.layers import Embedding, LSTM, Dense # layers of the architecture\n",
    "from tensorflow.keras.callbacks import ModelCheckpoint   # save model\n",
    "from tensorflow.keras.models import load_model \n",
    "import seaborn as sns\n",
    "from wordcloud import WordCloud,STOPWORDS\n",
    "from sklearn.preprocessing import LabelEncoder\n",
    "from tensorflow.keras.utils import to_categorical\n",
    "import hvplot.pandas\n",
    "import plotly.express as px\n",
    "import datetime as dt\n",
    "from pandas_profiling import ProfileReport\n",
    "import seaborn  as sns\n",
    "import spacy\n",
    "import gensim\n",
    "import plotly.graph_objects as go\n",
    "import textblob   \n",
    "import textstat\n",
    "import pyLDAvis\n",
    "from pattern.en import parse\n",
    "from pattern.en import pprint\n",
    "from pattern.en import pluralize, singularize\n",
    "from pattern.en import ngrams\n",
    "from pattern.en import sentiment\n",
    "from dotenv import load_dotenv\n",
    "import alpaca_trade_api as tradeapi\n",
    "from alpaca_trade_api.rest import TimeFrame\n"
   ]
  },
  {
   "cell_type": "code",
   "execution_count": null,
   "id": "a589b809",
   "metadata": {},
   "outputs": [],
   "source": [
    "# Obtain Keys to connect to ALPACA API\n",
    "load_dotenv() # True\n",
    "CONSUMER_KEY = os.environ.get(\"ALPACA_API_KEY\")\n",
    "\n",
    "CONSUMER_SECRET_KEY = os.environ.get(\"ALPACA_SECRET_KEY\")\n",
    "quandl.ApiConfig.api_key = os.environ.get(\"QUANTA_API_KEY\")"
   ]
  },
  {
   "cell_type": "code",
   "execution_count": null,
   "id": "0733bb63",
   "metadata": {},
   "outputs": [],
   "source": [
    "# Initialize ALPACA API\n",
    "ALPACA_URL='https://paper-api.alpaca.markets'\n",
    "alpaca_api = tradeapi.REST(CONSUMER_KEY, CONSUMER_SECRET_KEY, ALPACA_URL, api_version='v2')"
   ]
  },
  {
   "cell_type": "code",
   "execution_count": null,
   "id": "6339a55f",
   "metadata": {},
   "outputs": [],
   "source": [
    "# Call ALPACA API to get data for ticker symbols.\n",
    "# Format current date as ISO format\n",
    "NY = 'America/New_York'\n",
    "\n",
    "edate = dt.date.today()\n",
    "start=pd.Timestamp('2020-08-01', tz=NY).isoformat()\n",
    "end=pd.Timestamp(edate, tz=NY).isoformat()\n",
    "# Set the tickers\n",
    "tickers = [\"AGG\", \"SPY\"]\n",
    "# Set timeframe to '1D' for Alpaca API, \n",
    "# Get current closing prices for SPY and AGG\n",
    "# (use a limit=1000 parameter to call the most recent 1000 days of data)\n",
    "alpaca_api.get_barset(tickers, '1D', start=start, end=end, limit=1000).df"
   ]
  },
  {
   "cell_type": "code",
   "execution_count": null,
   "id": "e8ef664a",
   "metadata": {},
   "outputs": [],
   "source": [
    "#Create dataframe to store API output\n",
    "alpaca_df=alpaca_api.get_barset(tickers, '1D', start=start, end=end, limit=1000).df"
   ]
  }
 ],
 "metadata": {
  "kernelspec": {
   "display_name": "Python 3",
   "language": "python",
   "name": "python3"
  },
  "language_info": {
   "codemirror_mode": {
    "name": "ipython",
    "version": 3
   },
   "file_extension": ".py",
   "mimetype": "text/x-python",
   "name": "python",
   "nbconvert_exporter": "python",
   "pygments_lexer": "ipython3",
   "version": "3.7.11"
  }
 },
 "nbformat": 4,
 "nbformat_minor": 5
}
