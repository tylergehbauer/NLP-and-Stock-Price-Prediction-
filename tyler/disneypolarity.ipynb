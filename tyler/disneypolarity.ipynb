{
 "cells": [
  {
   "cell_type": "code",
   "execution_count": 17,
   "id": "a7179eb8",
   "metadata": {},
   "outputs": [
    {
     "name": "stderr",
     "output_type": "stream",
     "text": [
      "[nltk_data] Downloading package vader_lexicon to\n",
      "[nltk_data]     /Users/tylergehbauer/nltk_data...\n",
      "[nltk_data]   Package vader_lexicon is already up-to-date!\n"
     ]
    }
   ],
   "source": [
    "import numpy as np \n",
    "import pandas as pd \n",
    "import matplotlib.pyplot as plt\n",
    "from pathlib import Path\n",
    "import os\n",
    "import nltk as nltk\n",
    "nltk.download('vader_lexicon')\n",
    "from nltk.sentiment.vader import SentimentIntensityAnalyzer\n",
    "analyzer = SentimentIntensityAnalyzer()\n",
    "#tokenization for wordcloud, ect..\n",
    "from nltk.tokenize import word_tokenize, sent_tokenize\n",
    "from nltk.corpus import stopwords\n",
    "from nltk.stem import WordNetLemmatizer, PorterStemmer\n",
    "from string import punctuation\n",
    "import re"
   ]
  },
  {
   "cell_type": "code",
   "execution_count": 18,
   "id": "8517c3f0",
   "metadata": {},
   "outputs": [],
   "source": [
    "disney_df = pd.read_csv(\"../data/disney.csv\")"
   ]
  },
  {
   "cell_type": "code",
   "execution_count": 19,
   "id": "c5921e11",
   "metadata": {},
   "outputs": [],
   "source": [
    "sentiments_disney = []#creates empty list\n",
    "\n",
    "#Going to use VADER’s SentimentIntensityAnalyzer() to see how many 'Neutral (neu)' , 'Positive (pos)', and 'Negatvie(neg)'\n",
    "# words there are for each article. \n",
    "for articles in disney_df['critics_consensus']: #goes through each artilce in bitcoin_news and applies polarity\n",
    "    try:\n",
    "        text = articles #accessing each articles 'content' which contains the article itself in 'bitcoin_news'\n",
    "        results = analyzer.polarity_scores(text) #this is how get compound, pos, neg, and nue polarity scores\n",
    "        #during imports we set analyzer equal to SentimentIntensityAnalyzer() \n",
    "        #'results' uses this function to find polarity score for each article in bitcoin_news\n",
    "        compound = results[\"compound\"] #gets compound polarity score\n",
    "        pos = results[\"pos\"] #gets postive polarity score\n",
    "        neu = results[\"neu\"] #gets neutral polarity score\n",
    "        neg = results[\"neg\"] #gets negative polarity score\n",
    "\n",
    "        sentiments_disney.append({\n",
    "            \"text\": text,\n",
    "            \"Compound\": compound,\n",
    "            \"Positive\": pos,\n",
    "            \"Negative\": neg,\n",
    "            \"Neutral\": neu,\n",
    "        }) #appends a dictionary inside the list-(sentiments) so a dataframe can be created\n",
    "        #this appends all polarity score we got above\n",
    "    except AttributeError:\n",
    "        pass\n",
    "#rinse and repeat for each article    \n",
    "disney = pd.DataFrame(sentiments_disney) #creates a dataframe using the list of dicts\n",
    "#appends data from original dataframe\n",
    "disney = disney.join(disney_df['original_release_date'])\n",
    "disney = disney.join(disney_df['streaming_release_date'])\n",
    "disney = disney.join(disney_df['movie_title'])\n",
    "disney = disney.drop(columns = ['Positive', 'Negative', 'Neutral'])\n"
   ]
  },
  {
   "cell_type": "code",
   "execution_count": 20,
   "id": "1bfbb9f5",
   "metadata": {},
   "outputs": [],
   "source": [
    "disney[[\"original_release_date\", \"streaming_release_date\"]] = disney[[\"original_release_date\", \"streaming_release_date\"]].apply(pd.to_datetime)\n"
   ]
  },
  {
   "cell_type": "code",
   "execution_count": 21,
   "id": "a4f66022",
   "metadata": {},
   "outputs": [
    {
     "data": {
      "text/html": [
       "<div>\n",
       "<style scoped>\n",
       "    .dataframe tbody tr th:only-of-type {\n",
       "        vertical-align: middle;\n",
       "    }\n",
       "\n",
       "    .dataframe tbody tr th {\n",
       "        vertical-align: top;\n",
       "    }\n",
       "\n",
       "    .dataframe thead th {\n",
       "        text-align: right;\n",
       "    }\n",
       "</style>\n",
       "<table border=\"1\" class=\"dataframe\">\n",
       "  <thead>\n",
       "    <tr style=\"text-align: right;\">\n",
       "      <th></th>\n",
       "      <th>text</th>\n",
       "      <th>Compound</th>\n",
       "      <th>Positive</th>\n",
       "      <th>Negative</th>\n",
       "      <th>Neutral</th>\n",
       "      <th>original_release_date</th>\n",
       "      <th>streaming_release_date</th>\n",
       "      <th>movie_title</th>\n",
       "    </tr>\n",
       "  </thead>\n",
       "  <tbody>\n",
       "    <tr>\n",
       "      <th>0</th>\n",
       "      <td>One of Disney's finest live-action adventures,...</td>\n",
       "      <td>0.7579</td>\n",
       "      <td>0.213</td>\n",
       "      <td>0.000</td>\n",
       "      <td>0.787</td>\n",
       "      <td>1954-01-01</td>\n",
       "      <td>2016-06-10</td>\n",
       "      <td>20,000 Leagues Under The Sea</td>\n",
       "    </tr>\n",
       "    <tr>\n",
       "      <th>1</th>\n",
       "      <td>Robert Zemeckis' 3-D animated take on the Dick...</td>\n",
       "      <td>0.4118</td>\n",
       "      <td>0.165</td>\n",
       "      <td>0.115</td>\n",
       "      <td>0.719</td>\n",
       "      <td>2009-11-06</td>\n",
       "      <td>2015-11-23</td>\n",
       "      <td>Disney's A Christmas Carol</td>\n",
       "    </tr>\n",
       "    <tr>\n",
       "      <th>2</th>\n",
       "      <td>Despite hitting some sweet notes, Beverly Hill...</td>\n",
       "      <td>0.0823</td>\n",
       "      <td>0.153</td>\n",
       "      <td>0.136</td>\n",
       "      <td>0.711</td>\n",
       "      <td>2008-09-30</td>\n",
       "      <td>2015-12-13</td>\n",
       "      <td>Beverly Hills Chihuahua</td>\n",
       "    </tr>\n",
       "    <tr>\n",
       "      <th>3</th>\n",
       "      <td>G-Force features manic action, but fails to co...</td>\n",
       "      <td>0.6310</td>\n",
       "      <td>0.320</td>\n",
       "      <td>0.151</td>\n",
       "      <td>0.530</td>\n",
       "      <td>2009-07-24</td>\n",
       "      <td>2016-06-30</td>\n",
       "      <td>G-Force</td>\n",
       "    </tr>\n",
       "    <tr>\n",
       "      <th>4</th>\n",
       "      <td>Its cast tries hard, but Old Dogs is a predict...</td>\n",
       "      <td>0.1779</td>\n",
       "      <td>0.113</td>\n",
       "      <td>0.123</td>\n",
       "      <td>0.764</td>\n",
       "      <td>2009-11-25</td>\n",
       "      <td>2016-07-01</td>\n",
       "      <td>Old Dogs</td>\n",
       "    </tr>\n",
       "  </tbody>\n",
       "</table>\n",
       "</div>"
      ],
      "text/plain": [
       "                                                text  Compound  Positive  \\\n",
       "0  One of Disney's finest live-action adventures,...    0.7579     0.213   \n",
       "1  Robert Zemeckis' 3-D animated take on the Dick...    0.4118     0.165   \n",
       "2  Despite hitting some sweet notes, Beverly Hill...    0.0823     0.153   \n",
       "3  G-Force features manic action, but fails to co...    0.6310     0.320   \n",
       "4  Its cast tries hard, but Old Dogs is a predict...    0.1779     0.113   \n",
       "\n",
       "   Negative  Neutral original_release_date streaming_release_date  \\\n",
       "0     0.000    0.787            1954-01-01             2016-06-10   \n",
       "1     0.115    0.719            2009-11-06             2015-11-23   \n",
       "2     0.136    0.711            2008-09-30             2015-12-13   \n",
       "3     0.151    0.530            2009-07-24             2016-06-30   \n",
       "4     0.123    0.764            2009-11-25             2016-07-01   \n",
       "\n",
       "                    movie_title  \n",
       "0  20,000 Leagues Under The Sea  \n",
       "1    Disney's A Christmas Carol  \n",
       "2       Beverly Hills Chihuahua  \n",
       "3                       G-Force  \n",
       "4                      Old Dogs  "
      ]
     },
     "execution_count": 21,
     "metadata": {},
     "output_type": "execute_result"
    }
   ],
   "source": [
    "disney.head()"
   ]
  },
  {
   "cell_type": "code",
   "execution_count": null,
   "id": "4a0ef4f9",
   "metadata": {},
   "outputs": [],
   "source": []
  }
 ],
 "metadata": {
  "kernelspec": {
   "display_name": "Python [conda env:pyvizenv] *",
   "language": "python",
   "name": "conda-env-pyvizenv-py"
  },
  "language_info": {
   "codemirror_mode": {
    "name": "ipython",
    "version": 3
   },
   "file_extension": ".py",
   "mimetype": "text/x-python",
   "name": "python",
   "nbconvert_exporter": "python",
   "pygments_lexer": "ipython3",
   "version": "3.7.7"
  }
 },
 "nbformat": 4,
 "nbformat_minor": 5
}
