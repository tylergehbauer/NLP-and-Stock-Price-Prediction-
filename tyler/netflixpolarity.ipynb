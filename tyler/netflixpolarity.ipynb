{
 "cells": [
  {
   "cell_type": "code",
   "execution_count": 1,
   "id": "122b6a75",
   "metadata": {},
   "outputs": [
    {
     "name": "stderr",
     "output_type": "stream",
     "text": [
      "[nltk_data] Downloading package vader_lexicon to\n",
      "[nltk_data]     /Users/tylergehbauer/nltk_data...\n",
      "[nltk_data]   Package vader_lexicon is already up-to-date!\n"
     ]
    }
   ],
   "source": [
    "import numpy as np \n",
    "import pandas as pd \n",
    "import matplotlib.pyplot as plt\n",
    "from pathlib import Path\n",
    "import os\n",
    "import nltk as nltk\n",
    "nltk.download('vader_lexicon')\n",
    "from nltk.sentiment.vader import SentimentIntensityAnalyzer\n",
    "analyzer = SentimentIntensityAnalyzer()\n",
    "#tokenization for wordcloud, ect..\n",
    "from nltk.tokenize import word_tokenize, sent_tokenize\n",
    "from nltk.corpus import stopwords\n",
    "from nltk.stem import WordNetLemmatizer, PorterStemmer\n",
    "from string import punctuation\n",
    "import re"
   ]
  },
  {
   "cell_type": "code",
   "execution_count": 2,
   "id": "c0e66eee",
   "metadata": {},
   "outputs": [],
   "source": [
    "netflix_df = pd.read_csv(\"../data/netflix.csv\")"
   ]
  },
  {
   "cell_type": "code",
   "execution_count": 6,
   "id": "94e8e33b",
   "metadata": {},
   "outputs": [],
   "source": [
    "sentiments_netflix = []#creates empty list\n",
    "\n",
    "#Going to use VADER’s SentimentIntensityAnalyzer() to see how many 'Neutral (neu)' , 'Positive (pos)', and 'Negatvie(neg)'\n",
    "# words there are for each article. \n",
    "for articles in netflix_df['critics_consensus']: #goes through each artilce in df and applies polarity\n",
    "    try:\n",
    "        text = articles #accessing each articles 'content' which contains the article itself in 'bitcoin_news'\n",
    "        results = analyzer.polarity_scores(text) #this is how get compound, pos, neg, and nue polarity scores\n",
    "        #during imports we set analyzer equal to SentimentIntensityAnalyzer() \n",
    "        #'results' uses this function to find polarity score for each article in bitcoin_news\n",
    "        compound = results[\"compound\"] #gets compound polarity score\n",
    "        pos = results[\"pos\"] #gets postive polarity score\n",
    "        neu = results[\"neu\"] #gets neutral polarity score\n",
    "        neg = results[\"neg\"] #gets negative polarity score\n",
    "\n",
    "        sentiments_netflix.append({\n",
    "            \"text\": text,\n",
    "            \"Compound\": compound,\n",
    "            \"Positive\": pos,\n",
    "            \"Negative\": neg,\n",
    "            \"Neutral\": neu,\n",
    "        }) #appends a dictionary inside the list-(sentiments) so a dataframe can be created\n",
    "        #this appends all polarity score we got above\n",
    "    except AttributeError:\n",
    "        pass\n",
    "#rinse and repeat for each article    \n",
    "netflix = pd.DataFrame(sentiments_netflix)#creates a dataframe using the list of dicts\n",
    "netflix = netflix.join(netflix_df['movie_title'])\n",
    "netflix = netflix.join(netflix_df['original_release_date'])\n",
    "netflix = netflix.join(netflix_df['streaming_release_date'])\n",
    "netflix = netflix.drop(columns = ['Positive', 'Negative', 'Neutral'])"
   ]
  },
  {
   "cell_type": "code",
   "execution_count": 7,
   "id": "c05f37de",
   "metadata": {},
   "outputs": [],
   "source": [
    "netflix[[\"original_release_date\", \"streaming_release_date\"]] = netflix[[\"original_release_date\", \"streaming_release_date\"]].apply(pd.to_datetime)\n"
   ]
  },
  {
   "cell_type": "code",
   "execution_count": 8,
   "id": "ecc04ff9",
   "metadata": {},
   "outputs": [
    {
     "data": {
      "text/html": [
       "<div>\n",
       "<style scoped>\n",
       "    .dataframe tbody tr th:only-of-type {\n",
       "        vertical-align: middle;\n",
       "    }\n",
       "\n",
       "    .dataframe tbody tr th {\n",
       "        vertical-align: top;\n",
       "    }\n",
       "\n",
       "    .dataframe thead th {\n",
       "        text-align: right;\n",
       "    }\n",
       "</style>\n",
       "<table border=\"1\" class=\"dataframe\">\n",
       "  <thead>\n",
       "    <tr style=\"text-align: right;\">\n",
       "      <th></th>\n",
       "      <th>text</th>\n",
       "      <th>Compound</th>\n",
       "      <th>Positive</th>\n",
       "      <th>Negative</th>\n",
       "      <th>Neutral</th>\n",
       "      <th>movie_title</th>\n",
       "      <th>original_release_date</th>\n",
       "      <th>streaming_release_date</th>\n",
       "    </tr>\n",
       "  </thead>\n",
       "  <tbody>\n",
       "    <tr>\n",
       "      <th>0</th>\n",
       "      <td>Thanks to director Zak Hilditch's patient stor...</td>\n",
       "      <td>0.8588</td>\n",
       "      <td>0.322</td>\n",
       "      <td>0.000</td>\n",
       "      <td>0.678</td>\n",
       "      <td>18 Presents (18 Regali)</td>\n",
       "      <td>NaT</td>\n",
       "      <td>2020-05-19</td>\n",
       "    </tr>\n",
       "    <tr>\n",
       "      <th>1</th>\n",
       "      <td>22 July offers a hard-hitting close-up look at...</td>\n",
       "      <td>-0.6124</td>\n",
       "      <td>0.057</td>\n",
       "      <td>0.163</td>\n",
       "      <td>0.780</td>\n",
       "      <td>1922</td>\n",
       "      <td>2017-10-20</td>\n",
       "      <td>2017-10-20</td>\n",
       "    </tr>\n",
       "    <tr>\n",
       "      <th>2</th>\n",
       "      <td>37 Seconds is a rare and refreshing film that ...</td>\n",
       "      <td>0.7351</td>\n",
       "      <td>0.323</td>\n",
       "      <td>0.000</td>\n",
       "      <td>0.677</td>\n",
       "      <td>22-Jul</td>\n",
       "      <td>2018-10-10</td>\n",
       "      <td>2018-10-10</td>\n",
       "    </tr>\n",
       "    <tr>\n",
       "      <th>3</th>\n",
       "      <td>Delicately sketched but thematically rich, 6 B...</td>\n",
       "      <td>0.8779</td>\n",
       "      <td>0.347</td>\n",
       "      <td>0.000</td>\n",
       "      <td>0.653</td>\n",
       "      <td>37 Seconds</td>\n",
       "      <td>NaT</td>\n",
       "      <td>2020-01-31</td>\n",
       "    </tr>\n",
       "    <tr>\n",
       "      <th>4</th>\n",
       "      <td>6 Underground is loud, frenetic, and finally p...</td>\n",
       "      <td>-0.5423</td>\n",
       "      <td>0.000</td>\n",
       "      <td>0.123</td>\n",
       "      <td>0.877</td>\n",
       "      <td>6 Balloons</td>\n",
       "      <td>NaT</td>\n",
       "      <td>2018-04-06</td>\n",
       "    </tr>\n",
       "  </tbody>\n",
       "</table>\n",
       "</div>"
      ],
      "text/plain": [
       "                                                text  Compound  Positive  \\\n",
       "0  Thanks to director Zak Hilditch's patient stor...    0.8588     0.322   \n",
       "1  22 July offers a hard-hitting close-up look at...   -0.6124     0.057   \n",
       "2  37 Seconds is a rare and refreshing film that ...    0.7351     0.323   \n",
       "3  Delicately sketched but thematically rich, 6 B...    0.8779     0.347   \n",
       "4  6 Underground is loud, frenetic, and finally p...   -0.5423     0.000   \n",
       "\n",
       "   Negative  Neutral              movie_title original_release_date  \\\n",
       "0     0.000    0.678  18 Presents (18 Regali)                   NaT   \n",
       "1     0.163    0.780                     1922            2017-10-20   \n",
       "2     0.000    0.677                   22-Jul            2018-10-10   \n",
       "3     0.000    0.653               37 Seconds                   NaT   \n",
       "4     0.123    0.877               6 Balloons                   NaT   \n",
       "\n",
       "  streaming_release_date  \n",
       "0             2020-05-19  \n",
       "1             2017-10-20  \n",
       "2             2018-10-10  \n",
       "3             2020-01-31  \n",
       "4             2018-04-06  "
      ]
     },
     "execution_count": 8,
     "metadata": {},
     "output_type": "execute_result"
    }
   ],
   "source": [
    "netflix.head()"
   ]
  },
  {
   "cell_type": "code",
   "execution_count": null,
   "id": "15c2967f",
   "metadata": {},
   "outputs": [],
   "source": []
  }
 ],
 "metadata": {
  "kernelspec": {
   "display_name": "Python [conda env:pyvizenv] *",
   "language": "python",
   "name": "conda-env-pyvizenv-py"
  },
  "language_info": {
   "codemirror_mode": {
    "name": "ipython",
    "version": 3
   },
   "file_extension": ".py",
   "mimetype": "text/x-python",
   "name": "python",
   "nbconvert_exporter": "python",
   "pygments_lexer": "ipython3",
   "version": "3.7.7"
  }
 },
 "nbformat": 4,
 "nbformat_minor": 5
}
