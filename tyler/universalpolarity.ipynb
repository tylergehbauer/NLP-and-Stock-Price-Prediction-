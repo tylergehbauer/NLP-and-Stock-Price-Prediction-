{
 "cells": [
  {
   "cell_type": "code",
   "execution_count": 2,
   "id": "852768bd",
   "metadata": {},
   "outputs": [
    {
     "name": "stderr",
     "output_type": "stream",
     "text": [
      "[nltk_data] Downloading package vader_lexicon to\n",
      "[nltk_data]     /Users/tylergehbauer/nltk_data...\n",
      "[nltk_data]   Package vader_lexicon is already up-to-date!\n"
     ]
    }
   ],
   "source": [
    "import numpy as np \n",
    "import pandas as pd \n",
    "import matplotlib.pyplot as plt\n",
    "from pathlib import Path\n",
    "import os\n",
    "import nltk as nltk\n",
    "nltk.download('vader_lexicon')\n",
    "from nltk.sentiment.vader import SentimentIntensityAnalyzer\n",
    "analyzer = SentimentIntensityAnalyzer()\n",
    "#tokenization for wordcloud, ect..\n",
    "from nltk.tokenize import word_tokenize, sent_tokenize\n",
    "from nltk.corpus import stopwords\n",
    "from nltk.stem import WordNetLemmatizer, PorterStemmer\n",
    "from string import punctuation\n",
    "import re"
   ]
  },
  {
   "cell_type": "code",
   "execution_count": 3,
   "id": "17e48135",
   "metadata": {},
   "outputs": [],
   "source": [
    "universal_df = pd.read_csv(\"../data/universal.csv\")"
   ]
  },
  {
   "cell_type": "code",
   "execution_count": 7,
   "id": "34e6c60f",
   "metadata": {},
   "outputs": [],
   "source": [
    "sentiments_universal = []#creates empty list\n",
    "\n",
    "#Going to use VADER’s SentimentIntensityAnalyzer() to see how many 'Neutral (neu)' , 'Positive (pos)', and 'Negatvie(neg)'\n",
    "# words there are for each article. \n",
    "for articles in universal_df['critics_consensus']: #goes through each artilce in df and applies polarity\n",
    "    try:\n",
    "        text = articles #accessing each articles 'content' which contains the article itself in 'bitcoin_news'\n",
    "        results = analyzer.polarity_scores(text) #this is how get compound, pos, neg, and nue polarity scores\n",
    "        #during imports we set analyzer equal to SentimentIntensityAnalyzer() \n",
    "        #'results' uses this function to find polarity score for each article in bitcoin_news\n",
    "        compound = results[\"compound\"] #gets compound polarity score\n",
    "        pos = results[\"pos\"] #gets postive polarity score\n",
    "        neu = results[\"neu\"] #gets neutral polarity score\n",
    "        neg = results[\"neg\"] #gets negative polarity score\n",
    "\n",
    "        sentiments_universal.append({\n",
    "            \"Consensus\": text,\n",
    "            \"Compound\": compound,\n",
    "            \"Positive\": pos,\n",
    "            \"Negative\": neg,\n",
    "            \"Neutral\": neu,\n",
    "        }) #appends a dictionary inside the list-(sentiments) so a dataframe can be created\n",
    "        #this appends all polarity score we got above\n",
    "    except AttributeError:\n",
    "        pass\n",
    "#rinse and repeat for each article    \n",
    "universal = pd.DataFrame(sentiments_universal)#creates a dataframe using the list of dicts\n",
    "universal = universal.join(universal_df['movie_title'])\n",
    "universal = universal.join(universal_df['original_release_date'])\n",
    "universal = universal.join(universal_df['streaming_release_date'])\n",
    "universal = universal.drop(columns = ['Positive', 'Negative', 'Neutral'])"
   ]
  },
  {
   "cell_type": "code",
   "execution_count": 8,
   "id": "56a59b0c",
   "metadata": {},
   "outputs": [],
   "source": [
    "universal[[\"original_release_date\", \"streaming_release_date\"]] = universal[[\"original_release_date\", \"streaming_release_date\"]].apply(pd.to_datetime)\n"
   ]
  },
  {
   "cell_type": "code",
   "execution_count": 9,
   "id": "8f40bf92",
   "metadata": {},
   "outputs": [
    {
     "data": {
      "text/html": [
       "<div>\n",
       "<style scoped>\n",
       "    .dataframe tbody tr th:only-of-type {\n",
       "        vertical-align: middle;\n",
       "    }\n",
       "\n",
       "    .dataframe tbody tr th {\n",
       "        vertical-align: top;\n",
       "    }\n",
       "\n",
       "    .dataframe thead th {\n",
       "        text-align: right;\n",
       "    }\n",
       "</style>\n",
       "<table border=\"1\" class=\"dataframe\">\n",
       "  <thead>\n",
       "    <tr style=\"text-align: right;\">\n",
       "      <th></th>\n",
       "      <th>Consensus</th>\n",
       "      <th>Compound</th>\n",
       "      <th>movie_title</th>\n",
       "      <th>original_release_date</th>\n",
       "      <th>streaming_release_date</th>\n",
       "    </tr>\n",
       "  </thead>\n",
       "  <tbody>\n",
       "    <tr>\n",
       "      <th>0</th>\n",
       "      <td>More mild than wild. This tween comedy mess fa...</td>\n",
       "      <td>-0.8074</td>\n",
       "      <td>Wild Child</td>\n",
       "      <td>2008-08-14</td>\n",
       "      <td>2014-02-12</td>\n",
       "    </tr>\n",
       "    <tr>\n",
       "      <th>1</th>\n",
       "      <td>Only loosely based on the original TV series, ...</td>\n",
       "      <td>0.7645</td>\n",
       "      <td>Land of the Lost</td>\n",
       "      <td>2009-06-05</td>\n",
       "      <td>2015-12-10</td>\n",
       "    </tr>\n",
       "    <tr>\n",
       "      <th>2</th>\n",
       "      <td>Michael Mann's latest is a competent and techn...</td>\n",
       "      <td>0.8402</td>\n",
       "      <td>Public Enemies</td>\n",
       "      <td>2009-07-01</td>\n",
       "      <td>2015-12-10</td>\n",
       "    </tr>\n",
       "    <tr>\n",
       "      <th>3</th>\n",
       "      <td>Repo Men has an intriguing premise, as well as...</td>\n",
       "      <td>-0.7140</td>\n",
       "      <td>Repo Men</td>\n",
       "      <td>2010-03-19</td>\n",
       "      <td>2014-02-12</td>\n",
       "    </tr>\n",
       "    <tr>\n",
       "      <th>4</th>\n",
       "      <td>Proving once again that build-up is the key to...</td>\n",
       "      <td>-0.8799</td>\n",
       "      <td>The Birds</td>\n",
       "      <td>1963-03-28</td>\n",
       "      <td>2014-10-01</td>\n",
       "    </tr>\n",
       "  </tbody>\n",
       "</table>\n",
       "</div>"
      ],
      "text/plain": [
       "                                           Consensus  Compound  \\\n",
       "0  More mild than wild. This tween comedy mess fa...   -0.8074   \n",
       "1  Only loosely based on the original TV series, ...    0.7645   \n",
       "2  Michael Mann's latest is a competent and techn...    0.8402   \n",
       "3  Repo Men has an intriguing premise, as well as...   -0.7140   \n",
       "4  Proving once again that build-up is the key to...   -0.8799   \n",
       "\n",
       "        movie_title original_release_date streaming_release_date  \n",
       "0        Wild Child            2008-08-14             2014-02-12  \n",
       "1  Land of the Lost            2009-06-05             2015-12-10  \n",
       "2    Public Enemies            2009-07-01             2015-12-10  \n",
       "3          Repo Men            2010-03-19             2014-02-12  \n",
       "4         The Birds            1963-03-28             2014-10-01  "
      ]
     },
     "execution_count": 9,
     "metadata": {},
     "output_type": "execute_result"
    }
   ],
   "source": [
    "universal.head()"
   ]
  },
  {
   "cell_type": "code",
   "execution_count": null,
   "id": "44013691",
   "metadata": {},
   "outputs": [],
   "source": []
  },
  {
   "cell_type": "code",
   "execution_count": null,
   "id": "112467f2",
   "metadata": {},
   "outputs": [],
   "source": []
  }
 ],
 "metadata": {
  "kernelspec": {
   "display_name": "Python [conda env:pyvizenv] *",
   "language": "python",
   "name": "conda-env-pyvizenv-py"
  },
  "language_info": {
   "codemirror_mode": {
    "name": "ipython",
    "version": 3
   },
   "file_extension": ".py",
   "mimetype": "text/x-python",
   "name": "python",
   "nbconvert_exporter": "python",
   "pygments_lexer": "ipython3",
   "version": "3.7.7"
  }
 },
 "nbformat": 4,
 "nbformat_minor": 5
}
