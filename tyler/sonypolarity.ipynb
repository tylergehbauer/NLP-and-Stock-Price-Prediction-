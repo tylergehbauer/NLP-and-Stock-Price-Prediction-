{
 "cells": [
  {
   "cell_type": "code",
   "execution_count": 1,
   "id": "da5a0a77",
   "metadata": {},
   "outputs": [
    {
     "name": "stderr",
     "output_type": "stream",
     "text": [
      "[nltk_data] Downloading package vader_lexicon to\n",
      "[nltk_data]     /Users/tylergehbauer/nltk_data...\n",
      "[nltk_data]   Package vader_lexicon is already up-to-date!\n"
     ]
    }
   ],
   "source": [
    "import numpy as np \n",
    "import pandas as pd \n",
    "import matplotlib.pyplot as plt\n",
    "from pathlib import Path\n",
    "import os\n",
    "import nltk as nltk\n",
    "nltk.download('vader_lexicon')\n",
    "from nltk.sentiment.vader import SentimentIntensityAnalyzer\n",
    "analyzer = SentimentIntensityAnalyzer()\n",
    "#tokenization for wordcloud, ect..\n",
    "from nltk.tokenize import word_tokenize, sent_tokenize\n",
    "from nltk.corpus import stopwords\n",
    "from nltk.stem import WordNetLemmatizer, PorterStemmer\n",
    "from string import punctuation\n",
    "import re"
   ]
  },
  {
   "cell_type": "code",
   "execution_count": 2,
   "id": "22b92b35",
   "metadata": {},
   "outputs": [],
   "source": [
    "sony_df = pd.read_csv(\"../data/sony.csv\")"
   ]
  },
  {
   "cell_type": "code",
   "execution_count": 3,
   "id": "d0871095",
   "metadata": {},
   "outputs": [],
   "source": [
    "sentiments_sony = []#creates empty list\n",
    "\n",
    "#Going to use VADER’s SentimentIntensityAnalyzer() to see how many 'Neutral (neu)' , 'Positive (pos)', and 'Negatvie(neg)'\n",
    "# words there are for each article. \n",
    "for articles in sony_df['critics_consensus']: #goes through each artilce in df and applies polarity\n",
    "    try:\n",
    "        text = articles #accessing each articles 'content' which contains the article itself in 'bitcoin_news'\n",
    "        results = analyzer.polarity_scores(text) #this is how get compound, pos, neg, and nue polarity scores\n",
    "        #during imports we set analyzer equal to SentimentIntensityAnalyzer() \n",
    "        #'results' uses this function to find polarity score for each article in bitcoin_news\n",
    "        compound = results[\"compound\"] #gets compound polarity score\n",
    "        pos = results[\"pos\"] #gets postive polarity score\n",
    "        neu = results[\"neu\"] #gets neutral polarity score\n",
    "        neg = results[\"neg\"] #gets negative polarity score\n",
    "\n",
    "        sentiments_sony.append({\n",
    "            \"Consensus\": text,\n",
    "            \"Compound\": compound,\n",
    "            \"Positive\": pos,\n",
    "            \"Negative\": neg,\n",
    "            \"Neutral\": neu,\n",
    "        }) #appends a dictionary inside the list-(sentiments) so a dataframe can be created\n",
    "        #this appends all polarity score we got above\n",
    "    except AttributeError:\n",
    "        pass\n",
    "#rinse and repeat for each article    \n",
    "sony = pd.DataFrame(sentiments_sony)#creates a dataframe using the list of dicts\n",
    "sony = sony.join(sony_df['movie_title'])\n",
    "sony = sony.join(sony_df['original_release_date'])\n",
    "sony = sony.join(sony_df['streaming_release_date'])\n",
    "sony = sony.drop(columns = ['Positive', 'Negative', 'Neutral'])"
   ]
  },
  {
   "cell_type": "code",
   "execution_count": 4,
   "id": "3654acb7",
   "metadata": {},
   "outputs": [],
   "source": [
    "sony[[\"original_release_date\", \"streaming_release_date\"]] = sony[[\"original_release_date\", \"streaming_release_date\"]].apply(pd.to_datetime)\n"
   ]
  },
  {
   "cell_type": "code",
   "execution_count": 5,
   "id": "9fe86fe6",
   "metadata": {},
   "outputs": [
    {
     "data": {
      "text/html": [
       "<div>\n",
       "<style scoped>\n",
       "    .dataframe tbody tr th:only-of-type {\n",
       "        vertical-align: middle;\n",
       "    }\n",
       "\n",
       "    .dataframe tbody tr th {\n",
       "        vertical-align: top;\n",
       "    }\n",
       "\n",
       "    .dataframe thead th {\n",
       "        text-align: right;\n",
       "    }\n",
       "</style>\n",
       "<table border=\"1\" class=\"dataframe\">\n",
       "  <thead>\n",
       "    <tr style=\"text-align: right;\">\n",
       "      <th></th>\n",
       "      <th>text</th>\n",
       "      <th>Compound</th>\n",
       "      <th>Positive</th>\n",
       "      <th>Negative</th>\n",
       "      <th>Neutral</th>\n",
       "      <th>movie_title</th>\n",
       "      <th>original_release_date</th>\n",
       "      <th>streaming_release_date</th>\n",
       "    </tr>\n",
       "  </thead>\n",
       "  <tbody>\n",
       "    <tr>\n",
       "      <th>0</th>\n",
       "      <td>Nicole Holofcener's newest might seem slight i...</td>\n",
       "      <td>0.5023</td>\n",
       "      <td>0.115</td>\n",
       "      <td>0.000</td>\n",
       "      <td>0.885</td>\n",
       "      <td>Please Give</td>\n",
       "      <td>2010-04-30</td>\n",
       "      <td>2012-09-04</td>\n",
       "    </tr>\n",
       "    <tr>\n",
       "      <th>1</th>\n",
       "      <td>An incomprehensible and forgettable sci-fi thr...</td>\n",
       "      <td>0.1027</td>\n",
       "      <td>0.113</td>\n",
       "      <td>0.000</td>\n",
       "      <td>0.887</td>\n",
       "      <td>Ultraviolet</td>\n",
       "      <td>2006-03-03</td>\n",
       "      <td>2012-04-16</td>\n",
       "    </tr>\n",
       "    <tr>\n",
       "      <th>2</th>\n",
       "      <td>Polanski's version of Dickens' classic won't h...</td>\n",
       "      <td>-0.3804</td>\n",
       "      <td>0.000</td>\n",
       "      <td>0.105</td>\n",
       "      <td>0.895</td>\n",
       "      <td>Oliver Twist</td>\n",
       "      <td>2005-09-30</td>\n",
       "      <td>2012-04-16</td>\n",
       "    </tr>\n",
       "    <tr>\n",
       "      <th>3</th>\n",
       "      <td>Broderick Crawford is spellbinding as politici...</td>\n",
       "      <td>0.3182</td>\n",
       "      <td>0.076</td>\n",
       "      <td>0.000</td>\n",
       "      <td>0.924</td>\n",
       "      <td>The Second Chance</td>\n",
       "      <td>2006-02-17</td>\n",
       "      <td>2006-07-18</td>\n",
       "    </tr>\n",
       "    <tr>\n",
       "      <th>4</th>\n",
       "      <td>Captivating performances from Steve Buscemi an...</td>\n",
       "      <td>0.4404</td>\n",
       "      <td>0.172</td>\n",
       "      <td>0.000</td>\n",
       "      <td>0.828</td>\n",
       "      <td>All the King's Men</td>\n",
       "      <td>1949-11-08</td>\n",
       "      <td>2013-05-01</td>\n",
       "    </tr>\n",
       "  </tbody>\n",
       "</table>\n",
       "</div>"
      ],
      "text/plain": [
       "                                                text  Compound  Positive  \\\n",
       "0  Nicole Holofcener's newest might seem slight i...    0.5023     0.115   \n",
       "1  An incomprehensible and forgettable sci-fi thr...    0.1027     0.113   \n",
       "2  Polanski's version of Dickens' classic won't h...   -0.3804     0.000   \n",
       "3  Broderick Crawford is spellbinding as politici...    0.3182     0.076   \n",
       "4  Captivating performances from Steve Buscemi an...    0.4404     0.172   \n",
       "\n",
       "   Negative  Neutral         movie_title original_release_date  \\\n",
       "0     0.000    0.885         Please Give            2010-04-30   \n",
       "1     0.000    0.887         Ultraviolet            2006-03-03   \n",
       "2     0.105    0.895        Oliver Twist            2005-09-30   \n",
       "3     0.000    0.924   The Second Chance            2006-02-17   \n",
       "4     0.000    0.828  All the King's Men            1949-11-08   \n",
       "\n",
       "  streaming_release_date  \n",
       "0             2012-09-04  \n",
       "1             2012-04-16  \n",
       "2             2012-04-16  \n",
       "3             2006-07-18  \n",
       "4             2013-05-01  "
      ]
     },
     "execution_count": 5,
     "metadata": {},
     "output_type": "execute_result"
    }
   ],
   "source": [
    "sony.head()"
   ]
  },
  {
   "cell_type": "code",
   "execution_count": null,
   "id": "ef0516c0",
   "metadata": {},
   "outputs": [],
   "source": []
  }
 ],
 "metadata": {
  "kernelspec": {
   "display_name": "Python [conda env:pyvizenv] *",
   "language": "python",
   "name": "conda-env-pyvizenv-py"
  },
  "language_info": {
   "codemirror_mode": {
    "name": "ipython",
    "version": 3
   },
   "file_extension": ".py",
   "mimetype": "text/x-python",
   "name": "python",
   "nbconvert_exporter": "python",
   "pygments_lexer": "ipython3",
   "version": "3.7.7"
  }
 },
 "nbformat": 4,
 "nbformat_minor": 5
}
